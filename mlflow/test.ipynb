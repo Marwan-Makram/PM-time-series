{
 "cells": [
  {
   "cell_type": "code",
   "execution_count": 12,
   "id": "ecfd34d4",
   "metadata": {},
   "outputs": [],
   "source": [
    "import mlflow\n",
    "import pandas as pd"
   ]
  },
  {
   "cell_type": "code",
   "execution_count": 13,
   "id": "7c96c2e0",
   "metadata": {},
   "outputs": [],
   "source": [
    "data = pd.DataFrame([[\n",
    "    120,         # flight_cycle\n",
    "    'CLIMB',     # flight_phase\n",
    "    450,         # egt_probe_average\n",
    "    180,         # fuel_flw\n",
    "    75,          # core_spd\n",
    "    25,          # zpn12p\n",
    "    0.08,        # vib_n1_#1_bearing\n",
    "    0.03,        # vib_n2_#1_bearing\n",
    "    0.01         # vib_n2_turbine_frame\n",
    "]], columns=[\n",
    "    'flight_cycle',\n",
    "    'flight_phase',\n",
    "    'egt_probe_average',\n",
    "    'fuel_flw',\n",
    "    'core_spd',\n",
    "    'zpn12p',\n",
    "    'vib_n1_#1_bearing',\n",
    "    'vib_n2_#1_bearing',\n",
    "    'vib_n2_turbine_frame'\n",
    "])"
   ]
  },
  {
   "cell_type": "code",
   "execution_count": 14,
   "id": "038e8a47",
   "metadata": {},
   "outputs": [
    {
     "name": "stdout",
     "output_type": "stream",
     "text": [
      "Predicted RUL: 3959.8 cycles\n"
     ]
    }
   ],
   "source": [
    "\n",
    "logged_model = 'runs:/908adc7932d84b7186197fe117f70ae4/model'\n",
    "\n",
    "# Load model as a PyFuncModel.\n",
    "loaded_model = mlflow.pyfunc.load_model(logged_model)\n",
    "\n",
    "# Get prediction\n",
    "prediction = loaded_model.predict(data)\n",
    "print(f\"Predicted RUL: {prediction[0]:.1f} cycles\")"
   ]
  },
  {
   "cell_type": "code",
   "execution_count": 15,
   "id": "35a83c5d",
   "metadata": {},
   "outputs": [
    {
     "name": "stdout",
     "output_type": "stream",
     "text": [
      "Predicted RUL: 4153.9 cycles\n"
     ]
    }
   ],
   "source": [
    "\n",
    "logged_model = 'runs:/4293e4d7a04d4b6fbb9764101bb032c5/model'\n",
    "\n",
    "# Load model as a PyFuncModel.\n",
    "loaded_model = mlflow.pyfunc.load_model(logged_model)\n",
    "\n",
    "# Get prediction\n",
    "prediction = loaded_model.predict(data)\n",
    "print(f\"Predicted RUL: {prediction[0]:.1f} cycles\")"
   ]
  }
 ],
 "metadata": {
  "kernelspec": {
   "display_name": "depi",
   "language": "python",
   "name": "python3"
  },
  "language_info": {
   "codemirror_mode": {
    "name": "ipython",
    "version": 3
   },
   "file_extension": ".py",
   "mimetype": "text/x-python",
   "name": "python",
   "nbconvert_exporter": "python",
   "pygments_lexer": "ipython3",
   "version": "3.12.9"
  }
 },
 "nbformat": 4,
 "nbformat_minor": 5
}
